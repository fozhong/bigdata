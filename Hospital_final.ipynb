{
 "cells": [
  {
   "cell_type": "code",
   "execution_count": 1,
   "metadata": {},
   "outputs": [],
   "source": [
    "#  Index  #\n",
    "\n",
    "#  Unit 1: Import data\n",
    "#  Unit 2: Clean the data for algorithm test\n",
    "#  Unit 3: Correlation of objective catagory\n",
    "#          -- Correlation of \"mobility after 30 days\" with other categories\n",
    "#          -- Correlation of \"Alive after 30 days with other categories\"\n",
    "#  Unit 4: Algorithm test\n",
    "#          -- Predict \"mobility after 30 days\" by using 6 different classification algorithms\n",
    "#          -- Predict \"mobility after 30 days\" by using 4 differnt regression algorithms\n",
    "#          -- Predict \"Alive after 30 days\"    by using 4 different classification algorithms\n",
    "#  Unit 5: Tuning to better results\n",
    "#          -- To find the effect of the input categories for GradientBoostingClassifier algorithm \n",
    "#          -- To find the effect of the input categories for HistGradientBoostingClassifier algorithm\n",
    "#          -- To see how dynamic is Randomforestclassifier algorithm in many iterations "
   ]
  },
  {
   "cell_type": "code",
   "execution_count": null,
   "metadata": {},
   "outputs": [],
   "source": []
  },
  {
   "cell_type": "code",
   "execution_count": 2,
   "metadata": {},
   "outputs": [],
   "source": [
    "                                       ###        Unit 1: Import data       ####"
   ]
  },
  {
   "cell_type": "code",
   "execution_count": 3,
   "metadata": {},
   "outputs": [],
   "source": [
    "# Import data from github #\n",
    "import os\n",
    "import tarfile\n",
    "import pandas as pd\n",
    "from six.moves import urllib\n",
    "DOWNLOAD_ROOT = \"https://raw.githubusercontent.com/fozhong/bigdata/master/\"\n",
    "HOSPITAL_PATH = os.path.join(DOWNLOAD_ROOT,\"hospital7.csv\")     # Number of patients: 1159  patients\n",
    "#HOSPITAL_PATH = os.path.join(DOWNLOAD_ROOT,\"hospital6.csv\")    # Number of patients: 639   patients \n",
    "def load_hospital_data(hospital_path=HOSPITAL_PATH):\n",
    " return pd.read_csv(hospital_path)\n",
    "hospital_data=load_hospital_data()"
   ]
  },
  {
   "cell_type": "code",
   "execution_count": null,
   "metadata": {},
   "outputs": [],
   "source": []
  },
  {
   "cell_type": "code",
   "execution_count": 4,
   "metadata": {},
   "outputs": [],
   "source": [
    "                                       ###        Unit 2: Clean data  for algorithm test     ####"
   ]
  },
  {
   "cell_type": "code",
   "execution_count": 5,
   "metadata": {},
   "outputs": [],
   "source": [
    "#Show the input data information\n",
    "\n",
    "#hospital_data.head()\n",
    "#hospital_data.describe()\n",
    "#hospital_data.info()"
   ]
  },
  {
   "cell_type": "code",
   "execution_count": 6,
   "metadata": {},
   "outputs": [],
   "source": [
    "###  use MinMaxScaler tool to normalize the input values to the range of [0,1] ###\n",
    "from sklearn.preprocessing import MinMaxScaler        \n",
    "#from sklearn.preprocessing import StandardScaler   #another normalization tool to compare which one is better\n",
    "hospital_mean = MinMaxScaler()\n",
    "#hospital_mean = StandardScaler()        # Another normaliztion tool to compare which is the best\n",
    "hospital2=pd.DataFrame(hospital_mean.fit_transform(hospital_data.iloc[:, 0:28]))\n",
    "hospital2.columns=hospital_data.columns[0:28]\n",
    "hospital=pd.concat([hospital2, hospital_data.iloc[:,28:]],axis=1)"
   ]
  },
  {
   "cell_type": "code",
   "execution_count": 7,
   "metadata": {},
   "outputs": [
    {
     "name": "stdout",
     "output_type": "stream",
     "text": [
      "<class 'pandas.core.frame.DataFrame'>\n",
      "RangeIndex: 1159 entries, 0 to 1158\n",
      "Data columns (total 33 columns):\n",
      " #   Column                      Non-Null Count  Dtype  \n",
      "---  ------                      --------------  -----  \n",
      " 0   Gender                      1159 non-null   float64\n",
      " 1   Age                         1159 non-null   float64\n",
      " 2   Hospital                    1159 non-null   float64\n",
      " 3   Residence pre-fracture      1159 non-null   float64\n",
      " 4   Mobility pre-fracture       1159 non-null   float64\n",
      " 5   Pfeiffer                    1159 non-null   float64\n",
      " 6   ASA                         1159 non-null   float64\n",
      " 7   Fracture side               1159 non-null   float64\n",
      " 8   Fracture type               1159 non-null   float64\n",
      " 9   Treatment1 pre-fracture     1159 non-null   float64\n",
      " 10  Treatment4 pre-fracture     1159 non-null   float64\n",
      " 11  Treatment5 pre-fracture     1159 non-null   float64\n",
      " 12  Mortality after surgery     1159 non-null   float64\n",
      " 13  Surgery type                1159 non-null   float64\n",
      " 14  Surgery delay               1159 non-null   float64\n",
      " 15  Anesthesia                  1159 non-null   float64\n",
      " 16  Anesthesia blocking         1159 non-null   float64\n",
      " 17  Ulcers                      1159 non-null   float64\n",
      " 18  Specialist                  1159 non-null   float64\n",
      " 19  Sat first day               1159 non-null   float64\n",
      " 20  Destination after hospital  1159 non-null   float64\n",
      " 21  Hospital stay               1159 non-null   float64\n",
      " 22  Treatment1 after hospital   1159 non-null   float64\n",
      " 23  Treatment4 after hospital   1159 non-null   float64\n",
      " 24  Treatment5 after hospital   1159 non-null   float64\n",
      " 25  Readmission after 30 days   1159 non-null   float64\n",
      " 26  Resurgery within 30 days    1159 non-null   float64\n",
      " 27  Alive after 30 days         1159 non-null   float64\n",
      " 28  Mobility after 30 days      1159 non-null   int64  \n",
      " 29  Residence after 30 days     1159 non-null   int64  \n",
      " 30  Treatment1 after 30 days    1159 non-null   int64  \n",
      " 31  Treatment4 after 30 days    1159 non-null   int64  \n",
      " 32  Treatment5 after 30 days    1159 non-null   int64  \n",
      "dtypes: float64(28), int64(5)\n",
      "memory usage: 298.9 KB\n"
     ]
    }
   ],
   "source": [
    "# show all the categories,count and data type in the file #\n",
    "hospital.info()"
   ]
  },
  {
   "cell_type": "code",
   "execution_count": 8,
   "metadata": {},
   "outputs": [],
   "source": [
    "### split the data into test set and train set\n",
    "from sklearn.model_selection import StratifiedShuffleSplit\n",
    "split = StratifiedShuffleSplit(n_splits=1, test_size=0.15, random_state=42)    # 85% patients to be train set, 15%patients to be test set \n",
    "for train_index, test_index in split.split(hospital,hospital[\"Mobility after 30 days\"]):\n",
    "    strat_train_set = hospital.loc[train_index]\n",
    "    strat_test_set = hospital.loc[test_index]"
   ]
  },
  {
   "cell_type": "code",
   "execution_count": 9,
   "metadata": {},
   "outputs": [],
   "source": [
    "### Obejctive 1: predict the \"movility after 30 days\"， so we drop the object category from the train set and test set\n",
    "hospital1 = strat_train_set.drop(\"Mobility after 30 days\", axis=1)             \n",
    "hospital_labels = strat_train_set[\"Mobility after 30 days\"].copy()            \n",
    "hospital_test = strat_test_set.drop(\"Mobility after 30 days\", axis=1)             \n",
    "hospital_labels_test = strat_test_set[\"Mobility after 30 days\"].copy()            "
   ]
  },
  {
   "cell_type": "code",
   "execution_count": 10,
   "metadata": {},
   "outputs": [],
   "source": [
    "### Objective 2: predict the \"alive after 30 dats\", so we drop the objective category from the train set and test set\n",
    "hospital2 = strat_train_set.drop(\"Alive after 30 days\", axis=1)             \n",
    "hospital_labels2 = strat_train_set[\"Alive after 30 days\"].copy()            \n",
    "hospital2_test = strat_test_set.drop(\"Alive after 30 days\", axis=1)             \n",
    "hospital_labels2_test = strat_test_set[\"Alive after 30 days\"].copy()            "
   ]
  },
  {
   "cell_type": "code",
   "execution_count": 11,
   "metadata": {},
   "outputs": [],
   "source": [
    "###  For objective 1, Drop all the categories that we can not use as the input data from the train and test set\n",
    "hospital_predict1 = hospital1.drop(\"Readmission after 30 days\", axis=1).drop(\"Resurgery within 30 days\", axis=1).drop(\"Alive after 30 days\", axis=1)\n",
    "hospital_predict1 = hospital_predict1.drop(\"Residence after 30 days\", axis=1)\n",
    "hospital_predict1_test = hospital_test.drop(\"Readmission after 30 days\", axis=1).drop(\"Resurgery within 30 days\", axis=1).drop(\"Alive after 30 days\", axis=1)\n",
    "hospital_predict1_test = hospital_predict1_test.drop(\"Residence after 30 days\", axis=1)"
   ]
  },
  {
   "cell_type": "code",
   "execution_count": 12,
   "metadata": {},
   "outputs": [],
   "source": [
    "###  For object 2, Drop all the categories that we can not yse as the input data from the train and test set\n",
    "hospital_predict2 = hospital2.drop(\"Readmission after 30 days\", axis=1).drop(\"Resurgery within 30 days\", axis=1).drop(\"Mobility after 30 days\", axis=1)\n",
    "hospital_predict2 = hospital_predict2.drop(\"Residence after 30 days\", axis=1)\n",
    "hospital_predict2_test = hospital2_test.drop(\"Readmission after 30 days\", axis=1).drop(\"Resurgery within 30 days\", axis=1).drop(\"Mobility after 30 days\", axis=1)\n",
    "hospital_predict2_test = hospital_predict2_test.drop(\"Residence after 30 days\", axis=1)"
   ]
  },
  {
   "cell_type": "code",
   "execution_count": 13,
   "metadata": {},
   "outputs": [
    {
     "name": "stdout",
     "output_type": "stream",
     "text": [
      "<class 'pandas.core.frame.DataFrame'>\n",
      "Int64Index: 985 entries, 1122 to 102\n",
      "Data columns (total 28 columns):\n",
      " #   Column                      Non-Null Count  Dtype  \n",
      "---  ------                      --------------  -----  \n",
      " 0   Gender                      985 non-null    float64\n",
      " 1   Age                         985 non-null    float64\n",
      " 2   Hospital                    985 non-null    float64\n",
      " 3   Residence pre-fracture      985 non-null    float64\n",
      " 4   Mobility pre-fracture       985 non-null    float64\n",
      " 5   Pfeiffer                    985 non-null    float64\n",
      " 6   ASA                         985 non-null    float64\n",
      " 7   Fracture side               985 non-null    float64\n",
      " 8   Fracture type               985 non-null    float64\n",
      " 9   Treatment1 pre-fracture     985 non-null    float64\n",
      " 10  Treatment4 pre-fracture     985 non-null    float64\n",
      " 11  Treatment5 pre-fracture     985 non-null    float64\n",
      " 12  Mortality after surgery     985 non-null    float64\n",
      " 13  Surgery type                985 non-null    float64\n",
      " 14  Surgery delay               985 non-null    float64\n",
      " 15  Anesthesia                  985 non-null    float64\n",
      " 16  Anesthesia blocking         985 non-null    float64\n",
      " 17  Ulcers                      985 non-null    float64\n",
      " 18  Specialist                  985 non-null    float64\n",
      " 19  Sat first day               985 non-null    float64\n",
      " 20  Destination after hospital  985 non-null    float64\n",
      " 21  Hospital stay               985 non-null    float64\n",
      " 22  Treatment1 after hospital   985 non-null    float64\n",
      " 23  Treatment4 after hospital   985 non-null    float64\n",
      " 24  Treatment5 after hospital   985 non-null    float64\n",
      " 25  Treatment1 after 30 days    985 non-null    int64  \n",
      " 26  Treatment4 after 30 days    985 non-null    int64  \n",
      " 27  Treatment5 after 30 days    985 non-null    int64  \n",
      "dtypes: float64(25), int64(3)\n",
      "memory usage: 223.2 KB\n"
     ]
    }
   ],
   "source": [
    "# See the input information of object 1\n",
    "hospital_predict1.info()   # we can see that in the train set the number of patients are 985, and there are 28 input categories."
   ]
  },
  {
   "cell_type": "code",
   "execution_count": null,
   "metadata": {},
   "outputs": [],
   "source": []
  },
  {
   "cell_type": "code",
   "execution_count": 14,
   "metadata": {},
   "outputs": [],
   "source": [
    "                                          ###    Unit 3: Correlation of objective catagory        ####"
   ]
  },
  {
   "cell_type": "code",
   "execution_count": 15,
   "metadata": {},
   "outputs": [
    {
     "data": {
      "text/plain": [
       "Mobility after 30 days        1.000000\n",
       "Mobility pre-fracture         0.531246\n",
       "Residence after 30 days       0.462404\n",
       "Pfeiffer                      0.432887\n",
       "ASA                           0.315186\n",
       "Mortality after surgery       0.293715\n",
       "Age                           0.288792\n",
       "Residence pre-fracture        0.231309\n",
       "Destination after hospital    0.116588\n",
       "Ulcers                        0.075139\n",
       "Readmission after 30 days     0.074849\n",
       "Anesthesia                    0.051781\n",
       "Resurgery within 30 days      0.050999\n",
       "Specialist                    0.043841\n",
       "Gender                        0.030985\n",
       "Hospital                      0.003310\n",
       "Hospital stay                -0.010479\n",
       "Surgery delay                -0.015270\n",
       "Anesthesia blocking          -0.020723\n",
       "Treatment5 pre-fracture      -0.040517\n",
       "Fracture side                -0.045640\n",
       "Treatment4 pre-fracture      -0.059320\n",
       "Fracture type                -0.083025\n",
       "Surgery type                 -0.099595\n",
       "Treatment1 pre-fracture      -0.123163\n",
       "Treatment4 after hospital    -0.131094\n",
       "Sat first day                -0.139537\n",
       "Treatment5 after hospital    -0.161612\n",
       "Treatment1 after hospital    -0.185962\n",
       "Treatment4 after 30 days     -0.287887\n",
       "Treatment5 after 30 days     -0.365142\n",
       "Treatment1 after 30 days     -0.374475\n",
       "Alive after 30 days          -0.509697\n",
       "Name: Mobility after 30 days, dtype: float64"
      ]
     },
     "execution_count": 15,
     "metadata": {},
     "output_type": "execute_result"
    }
   ],
   "source": [
    "###  Correlation of \"Mobility after 30 days\" with other categories\n",
    "corr_matrix = hospital.corr()\n",
    "corr_matrix[\"Mobility after 30 days\"].sort_values(ascending=False)"
   ]
  },
  {
   "cell_type": "code",
   "execution_count": 16,
   "metadata": {},
   "outputs": [
    {
     "data": {
      "text/plain": [
       "Alive after 30 days           1.000000\n",
       "Treatment5 after 30 days      0.511086\n",
       "Treatment4 after 30 days      0.276158\n",
       "Treatment1 after 30 days      0.214957\n",
       "Treatment5 after hospital     0.151312\n",
       "Treatment4 after hospital     0.133537\n",
       "Treatment1 after hospital     0.099290\n",
       "Sat first day                 0.080616\n",
       "Treatment4 pre-fracture       0.079194\n",
       "Treatment1 pre-fracture       0.054167\n",
       "Anesthesia blocking           0.035327\n",
       "Treatment5 pre-fracture       0.030112\n",
       "Hospital stay                 0.023168\n",
       "Fracture side                 0.020737\n",
       "Anesthesia                    0.012146\n",
       "Residence pre-fracture       -0.006088\n",
       "Fracture type                -0.014238\n",
       "Resurgery within 30 days     -0.031333\n",
       "Surgery type                 -0.041655\n",
       "Surgery delay                -0.045507\n",
       "Hospital                     -0.048411\n",
       "Gender                       -0.053548\n",
       "Ulcers                       -0.063477\n",
       "ASA                          -0.112719\n",
       "Age                          -0.122260\n",
       "Readmission after 30 days    -0.123300\n",
       "Pfeiffer                     -0.129761\n",
       "Specialist                   -0.142176\n",
       "Mobility pre-fracture        -0.172091\n",
       "Destination after hospital   -0.177442\n",
       "Residence after 30 days      -0.502878\n",
       "Mobility after 30 days       -0.509697\n",
       "Mortality after surgery      -0.576255\n",
       "Name: Alive after 30 days, dtype: float64"
      ]
     },
     "execution_count": 16,
     "metadata": {},
     "output_type": "execute_result"
    }
   ],
   "source": [
    "###  Correlation of \"Alive after 30 days\" with other categories\n",
    "corr_matrix[\"Alive after 30 days\"].sort_values(ascending=False)"
   ]
  },
  {
   "cell_type": "code",
   "execution_count": null,
   "metadata": {},
   "outputs": [],
   "source": []
  },
  {
   "cell_type": "code",
   "execution_count": 17,
   "metadata": {},
   "outputs": [],
   "source": [
    "                                          ###    Unit 4: Algorithm test        ####"
   ]
  },
  {
   "cell_type": "code",
   "execution_count": 18,
   "metadata": {},
   "outputs": [],
   "source": [
    "                                       ###    predict the \"movility after 30 days\"  ####"
   ]
  },
  {
   "cell_type": "code",
   "execution_count": 19,
   "metadata": {},
   "outputs": [],
   "source": [
    "### Accuracy ###"
   ]
  },
  {
   "cell_type": "code",
   "execution_count": 20,
   "metadata": {},
   "outputs": [
    {
     "name": "stdout",
     "output_type": "stream",
     "text": [
      "Accuracy: 57.4713%\n"
     ]
    }
   ],
   "source": [
    "###  Neural network classification algorithm ###\n",
    "from sklearn.neural_network import MLPClassifier\n",
    "NNclass=MLPClassifier(max_iter=3000)\n",
    "NNclass.fit(hospital_predict1, hospital_labels)\n",
    "from sklearn.metrics import accuracy_score\n",
    "predictNNclass=NNclass.predict(hospital_predict1_test)\n",
    "result_NNclass = accuracy_score(hospital_labels_test, predictNNclass)\n",
    "print('Accuracy: {:.4%}'.format(result_NNclass))\n",
    "#  Dynamic accuracy in the range of 55% - 61%"
   ]
  },
  {
   "cell_type": "code",
   "execution_count": 21,
   "metadata": {},
   "outputs": [
    {
     "name": "stdout",
     "output_type": "stream",
     "text": [
      "Accuracy: 50.5747%\n"
     ]
    }
   ],
   "source": [
    "###  LinearSVC  algorithm ###\n",
    "from sklearn.svm import LinearSVC\n",
    "linear_svc= LinearSVC()\n",
    "linear_svc.fit(hospital_predict1,hospital_labels)\n",
    "predict_linear_svc=linear_svc.predict(hospital_predict1_test)\n",
    "result_linear_svc=accuracy_score(hospital_labels_test, predict_linear_svc)\n",
    "print('Accuracy: {:.4%}'.format(result_linear_svc))\n",
    "# Very stable accuracy 50.5747%"
   ]
  },
  {
   "cell_type": "code",
   "execution_count": 22,
   "metadata": {},
   "outputs": [
    {
     "name": "stdout",
     "output_type": "stream",
     "text": [
      "Accuracy:51.1494%\n"
     ]
    }
   ],
   "source": [
    "#  SVC algorithm  #####\n",
    "from sklearn.svm import SVC\n",
    "svc=SVC()\n",
    "svc.fit(hospital_predict1, hospital_labels)\n",
    "predict_svc=svc.predict(hospital_predict1_test)\n",
    "result_svc=accuracy_score(hospital_labels_test, predict_svc)\n",
    "print('Accuracy:{:.4%}'.format(result_svc))\n",
    "# Very stable accuracy 51.1494%"
   ]
  },
  {
   "cell_type": "code",
   "execution_count": 23,
   "metadata": {},
   "outputs": [
    {
     "name": "stdout",
     "output_type": "stream",
     "text": [
      "Accuracy:68.9655%\n"
     ]
    }
   ],
   "source": [
    "###   GradientBoostingClassifier algorithm  ###\n",
    "hospital_predict1_optim1=hospital_predict1.drop(\"Hospital stay\", axis=1)   # In the unit 5 we found drop this can improve the accuracy\n",
    "hospital_predict1_test_optim1=hospital_predict1_test.drop(\"Hospital stay\", axis=1)  # There is code detail in unit 5\n",
    "from sklearn.ensemble import GradientBoostingClassifier\n",
    "gbc=GradientBoostingClassifier()\n",
    "gbc.fit(hospital_predict1_optim1, hospital_labels)\n",
    "predict_gbc=gbc.predict(hospital_predict1_test_optim1)\n",
    "result_gbc=accuracy_score(hospital_labels_test, predict_gbc)\n",
    "print('Accuracy:{:.4%}'.format(result_gbc))\n",
    "#  Stable accuracy, result may be 68.3908%  68.9655% or 69.5402%"
   ]
  },
  {
   "cell_type": "code",
   "execution_count": 24,
   "metadata": {},
   "outputs": [
    {
     "name": "stdout",
     "output_type": "stream",
     "text": [
      "Accuracy:67.8161%\n"
     ]
    }
   ],
   "source": [
    "###    HistGradientBoostingClassifier algorithm  ###\n",
    "hospital_predict1_optim2=hospital_predict1.drop(\"Gender\", axis=1)   # In the unit 5 we found drop this can improve the accuracy\n",
    "hospital_predict1_test_optim2=hospital_predict1_test.drop(\"Gender\", axis=1)\n",
    "from sklearn.experimental import enable_hist_gradient_boosting\n",
    "from sklearn.ensemble import HistGradientBoostingClassifier\n",
    "hgbc = HistGradientBoostingClassifier()\n",
    "hgbc.fit(hospital_predict1_optim2, hospital_labels)\n",
    "predict_hgbc=hgbc.predict(hospital_predict1_test_optim2)\n",
    "result_hgbc=accuracy_score(hospital_labels_test, predict_hgbc)\n",
    "print('Accuracy:{:.4%}'.format(result_hgbc))\n",
    "#  Very stable accuracy: 67.8161%              "
   ]
  },
  {
   "cell_type": "code",
   "execution_count": 25,
   "metadata": {},
   "outputs": [
    {
     "name": "stdout",
     "output_type": "stream",
     "text": [
      "Accuracy:64.9425%\n"
     ]
    }
   ],
   "source": [
    "###    Randomforestclassifier algorithm  ###\n",
    "from sklearn.ensemble import RandomForestClassifier\n",
    "ran = RandomForestClassifier()\n",
    "ran.fit(hospital_predict1, hospital_labels)\n",
    "predict_ran=ran.predict(hospital_predict1_test)\n",
    "result_ran=accuracy_score(hospital_labels_test, predict_ran)\n",
    "print('Accuracy:{:.4%}'.format(result_ran))\n",
    "##  Dynamic in the range of 63% - 72%, the highest 72.4138%      # in the unit 5 we tried many iterations and get this range"
   ]
  },
  {
   "cell_type": "code",
   "execution_count": 26,
   "metadata": {},
   "outputs": [
    {
     "name": "stdout",
     "output_type": "stream",
     "text": [
      "Conclusion: We have tried 6 different classification algorithms above to predict the 'mobility after 30 days', and we can see that the HistGradientBoostingClassifier algorithm has the best stable accuracy which is 67.2414%, GradientBoostingClassifier algorithm has three results which are:68.3908%, 68.9665%, 69.5402% and the Randomforestclassifier algorithm sometimes has the dynamic result in the range of 66-70%, but it may have the highest accuracy which is 72.4138% .\n"
     ]
    }
   ],
   "source": [
    "# Conclusion of prediction \"Mobility after 30 days\" with classification ML algorithm\n",
    "print(\"Conclusion: We have tried 6 different classification algorithms above to predict the 'mobility after 30 days', and we can see that the HistGradientBoostingClassifier algorithm has the best stable accuracy which is 67.2414%, GradientBoostingClassifier algorithm has three results which are:68.3908%, 68.9665%, 69.5402% and the Randomforestclassifier algorithm sometimes has the dynamic result in the range of 63-72%, but it may have the highest accuracy which is 72.4138% .\") "
   ]
  },
  {
   "cell_type": "code",
   "execution_count": null,
   "metadata": {},
   "outputs": [],
   "source": []
  },
  {
   "cell_type": "code",
   "execution_count": 27,
   "metadata": {},
   "outputs": [],
   "source": [
    "###    Mean absolute error ###"
   ]
  },
  {
   "cell_type": "code",
   "execution_count": 28,
   "metadata": {},
   "outputs": [
    {
     "name": "stdout",
     "output_type": "stream",
     "text": [
      "Mean absolute error: 1.0287779653217388\n"
     ]
    }
   ],
   "source": [
    "###    LinearRegression  algorithm ########\n",
    "from sklearn.linear_model import LinearRegression\n",
    "lin_reg = LinearRegression()\n",
    "lin_reg.fit(hospital_predict1,hospital_labels)\n",
    "from sklearn.metrics import mean_absolute_error\n",
    "hospital_predict_lin_test=lin_reg.predict(hospital_predict1_test)\n",
    "result_lin=mean_absolute_error(hospital_labels_test, hospital_predict_lin_test)\n",
    "print(\"Mean absolute error:\", result_lin)"
   ]
  },
  {
   "cell_type": "code",
   "execution_count": 29,
   "metadata": {},
   "outputs": [
    {
     "name": "stdout",
     "output_type": "stream",
     "text": [
      "Mean absolute error: 0.8947962382572143\n"
     ]
    }
   ],
   "source": [
    "###     GradientBoostingRegressor  algorithm ####\n",
    "from sklearn.ensemble import GradientBoostingRegressor\n",
    "gbr_reg = GradientBoostingRegressor()\n",
    "gbr_reg.fit(hospital_predict1, hospital_labels)\n",
    "hospital_predict_gbr =gbr_reg.predict(hospital_predict1_test)\n",
    "result_gbr=mean_absolute_error(hospital_labels_test, hospital_predict_gbr)\n",
    "print(\"Mean absolute error:\", result_gbr)"
   ]
  },
  {
   "cell_type": "code",
   "execution_count": 30,
   "metadata": {},
   "outputs": [
    {
     "name": "stdout",
     "output_type": "stream",
     "text": [
      "Mean absolute error: 0.8282758620689655\n"
     ]
    }
   ],
   "source": [
    "###    Random regressor algorithm ###\n",
    "from sklearn.ensemble import RandomForestRegressor\n",
    "forest_reg = RandomForestRegressor()\n",
    "forest_reg.fit(hospital_predict1, hospital_labels)\n",
    "hospital_predictions_random_test = forest_reg.predict(hospital_predict1_test)\n",
    "result_random=mean_absolute_error(hospital_labels_test, hospital_predictions_random_test)\n",
    "print(\"Mean absolute error:\", result_random)"
   ]
  },
  {
   "cell_type": "code",
   "execution_count": 31,
   "metadata": {},
   "outputs": [
    {
     "name": "stdout",
     "output_type": "stream",
     "text": [
      "Mean absolute error: 1.0016733033708978\n"
     ]
    }
   ],
   "source": [
    "###  SVR algorithm ####\n",
    "from sklearn.svm import SVR\n",
    "svr_test=SVR()\n",
    "svr_test.fit(hospital_predict1, hospital_labels)\n",
    "hospital_predict_svr_test=svr_test.predict(hospital_predict1_test)\n",
    "result_svr=mean_absolute_error(hospital_labels_test, hospital_predict_svr_test)\n",
    "print(\"Mean absolute error:\", result_svr)"
   ]
  },
  {
   "cell_type": "code",
   "execution_count": null,
   "metadata": {},
   "outputs": [],
   "source": []
  },
  {
   "cell_type": "code",
   "execution_count": null,
   "metadata": {},
   "outputs": [],
   "source": []
  },
  {
   "cell_type": "code",
   "execution_count": 32,
   "metadata": {},
   "outputs": [],
   "source": [
    "                                       ###    predict the \"Alive after 30 days\"  ####"
   ]
  },
  {
   "cell_type": "code",
   "execution_count": 33,
   "metadata": {},
   "outputs": [
    {
     "name": "stdout",
     "output_type": "stream",
     "text": [
      "Accuracy: 93.6782%\n"
     ]
    }
   ],
   "source": [
    "###  Neural network classification algorithm ###\n",
    "NNclass2=MLPClassifier(max_iter=1500)\n",
    "NNclass2.fit(hospital_predict2, hospital_labels2)\n",
    "predictNNclass2=NNclass2.predict(hospital_predict2_test)\n",
    "result_NNclass2 = accuracy_score(hospital_labels2_test, predictNNclass2)\n",
    "print('Accuracy: {:.4%}'.format(result_NNclass2))\n",
    "# Dynamic result in the range of: 93.6% -  95.40%"
   ]
  },
  {
   "cell_type": "code",
   "execution_count": 34,
   "metadata": {},
   "outputs": [
    {
     "name": "stdout",
     "output_type": "stream",
     "text": [
      "Accuracy:94.8276%\n"
     ]
    }
   ],
   "source": [
    "###  SVC algorithm  #####\n",
    "svc2=SVC()\n",
    "svc2.fit(hospital_predict2, hospital_labels2)\n",
    "predict_svc2=svc2.predict(hospital_predict2_test)\n",
    "result_svc2=accuracy_score(hospital_labels2_test, predict_svc2)\n",
    "print('Accuracy:{:.4%}'.format(result_svc2))\n",
    "# Stable accuracy: 94.8276%"
   ]
  },
  {
   "cell_type": "code",
   "execution_count": 35,
   "metadata": {},
   "outputs": [
    {
     "name": "stdout",
     "output_type": "stream",
     "text": [
      "Accuracy:97.1264%\n"
     ]
    }
   ],
   "source": [
    "###   GradientBoostingClassifier algorithm  ###\n",
    "gbc2=GradientBoostingClassifier()\n",
    "gbc2.fit(hospital_predict2, hospital_labels2)\n",
    "predict_gbc2=gbc2.predict(hospital_predict2_test)\n",
    "result_gbc2=accuracy_score(hospital_labels2_test, predict_gbc2)\n",
    "print('Accuracy:{:.4%}'.format(result_gbc2))\n",
    "# Stable accuracy: 97.1264%"
   ]
  },
  {
   "cell_type": "code",
   "execution_count": 36,
   "metadata": {},
   "outputs": [
    {
     "name": "stdout",
     "output_type": "stream",
     "text": [
      "Accuracy:96.5517%\n"
     ]
    }
   ],
   "source": [
    "###    HistGradientBoostingClassifier algorithm  ###\n",
    "hgbc2 = HistGradientBoostingClassifier()\n",
    "hgbc2.fit(hospital_predict2, hospital_labels2)\n",
    "predict_hgbc2=hgbc2.predict(hospital_predict2_test)\n",
    "result_hgbc2=accuracy_score(hospital_labels2_test, predict_hgbc2)\n",
    "print('Accuracy:{:.4%}'.format(result_hgbc2))\n",
    "# Stable accuracy: 96.5517%"
   ]
  },
  {
   "cell_type": "code",
   "execution_count": 37,
   "metadata": {},
   "outputs": [
    {
     "name": "stdout",
     "output_type": "stream",
     "text": [
      "Conclusion: We have tried 4 different classification algorithms above to predict the 'Alive after 30 days', and we can see that the GradientBoostingClassifier algorithm has the highest and stable accuracy which is 97.1264%.\n"
     ]
    }
   ],
   "source": [
    "# Conclusion of prediction \"Alive after 30 days\" with classification ML algorithm\n",
    "print(\"Conclusion: We have tried 4 different classification algorithms above to predict the 'Alive after 30 days', and we can see that the GradientBoostingClassifier algorithm has the highest and stable accuracy which is 97.1264%.\") "
   ]
  },
  {
   "cell_type": "code",
   "execution_count": null,
   "metadata": {},
   "outputs": [],
   "source": []
  },
  {
   "cell_type": "code",
   "execution_count": 38,
   "metadata": {},
   "outputs": [],
   "source": [
    "                                          ###    Unit 5: Tuning to better result        ####"
   ]
  },
  {
   "cell_type": "code",
   "execution_count": 42,
   "metadata": {},
   "outputs": [
    {
     "name": "stdout",
     "output_type": "stream",
     "text": [
      "\n",
      "Iteration 1\n",
      "\n",
      "No Dropping, Accuracy:68.3908%\n",
      "Dropping Gender, Accuracy:66.0920%\n",
      "Dropping Age, Accuracy:67.2414%\n",
      "Dropping Hospital, Accuracy:66.0920%\n",
      "Dropping Residence pre-fracture, Accuracy:65.5172%\n",
      "Dropping Mobility pre-fracture, Accuracy:62.0690%\n",
      "Dropping Pfeiffer, Accuracy:67.2414%\n",
      "Dropping ASA, Accuracy:67.8161%\n",
      "Dropping Fracture side, Accuracy:66.6667%\n",
      "Dropping Fracture type, Accuracy:66.0920%\n",
      "Dropping Treatment1 pre-fracture, Accuracy:66.6667%\n",
      "Dropping Treatment4 pre-fracture, Accuracy:64.9425%\n",
      "Dropping Treatment5 pre-fracture, Accuracy:67.8161%\n",
      "Dropping Mortality after surgery, Accuracy:68.3908%\n",
      "Dropping Surgery type, Accuracy:64.9425%\n",
      "Dropping Surgery delay, Accuracy:63.7931%\n",
      "Dropping Anesthesia, Accuracy:66.0920%\n",
      "Dropping Anesthesia blocking, Accuracy:68.3908%\n",
      "Dropping Ulcers, Accuracy:67.8161%\n",
      "Dropping Specialist, Accuracy:67.2414%\n",
      "Dropping Sat first day, Accuracy:66.0920%\n",
      "Dropping Destination after hospital, Accuracy:67.8161%\n",
      "Dropping Hospital stay, Accuracy:68.9655%\n",
      "Dropping Treatment1 after hospital, Accuracy:67.2414%\n",
      "Dropping Treatment4 after hospital, Accuracy:66.0920%\n",
      "Dropping Treatment5 after hospital, Accuracy:65.5172%\n",
      "\n",
      "Dropping the following parameters the Accuaracy decreases: \n",
      "Gender\n",
      "Age\n",
      "Hospital\n",
      "Residence pre-fracture\n",
      "Mobility pre-fracture\n",
      "Pfeiffer\n",
      "ASA\n",
      "Fracture side\n",
      "Fracture type\n",
      "Treatment1 pre-fracture\n",
      "Treatment4 pre-fracture\n",
      "Treatment5 pre-fracture\n",
      "Surgery type\n",
      "Surgery delay\n",
      "Anesthesia\n",
      "Ulcers\n",
      "Specialist\n",
      "Sat first day\n",
      "Destination after hospital\n",
      "Treatment1 after hospital\n",
      "Treatment4 after hospital\n",
      "Treatment5 after hospital\n",
      "\n",
      "Dropping the following parameters doesn't impact the Accuaracy: \n",
      "Mortality after surgery\n",
      "Anesthesia blocking\n",
      "\n",
      "Dropping the following parameters the Accuaracy increases: \n",
      "Hospital stay\n",
      "\n",
      "The MAX Accuracy:68.3908%\n",
      "\n",
      "The min Accuracy:68.3908%\n"
     ]
    }
   ],
   "source": [
    "# By running the code below, we can see the effect of each input category for the GradientBoostingClassifier algorithm\n",
    "max=0\n",
    "min=100\n",
    "for s in range(1):     # here in the () we can define how many iterations we plan to run.\n",
    "  increase=[];\n",
    "  equal=[];\n",
    "  decrease=[];\n",
    "  print(\"\\nIteration {}\".format(s+1))\n",
    "  gbc=GradientBoostingClassifier()\n",
    "  gbc.fit(hospital_predict1, hospital_labels)\n",
    "  predict_gbc=gbc.predict(hospital_predict1_test)\n",
    "  ndresult_gbc=accuracy_score(hospital_labels_test, predict_gbc)\n",
    "  print('\\nNo Dropping, Accuracy:{:.4%}'.format(ndresult_gbc))\n",
    "\n",
    "\n",
    "  hospital_data_aux = hospital_data\n",
    "  for i in hospital_data_aux.columns[:25]:\n",
    "    hospital_predict1_aux = hospital_predict1\n",
    "    hospital_predict1_test_aux = hospital_predict1_test\n",
    "    hospital_predict1_aux = hospital_predict1_aux.drop(i, axis=1)\n",
    "    hospital_predict1_test_aux = hospital_predict1_test_aux.drop(i, axis=1)\n",
    "    gbc=GradientBoostingClassifier()\n",
    "    gbc.fit(hospital_predict1_aux, hospital_labels)\n",
    "    predict_gbc=gbc.predict(hospital_predict1_test_aux)\n",
    "    result_gbc=accuracy_score(hospital_labels_test, predict_gbc)\n",
    "    print('Dropping {}, Accuracy:{:.4%}'.format(i,result_gbc))\n",
    "    if (result_gbc<ndresult_gbc):\n",
    "      decrease.append(i)\n",
    "    elif (result_gbc==ndresult_gbc):\n",
    "      equal.append(i)\n",
    "    else:\n",
    "      increase.append(i)\n",
    "  \n",
    "  print(\"\\nDropping the following parameters the Accuaracy decreases: \")  \n",
    "  for param in decrease:\n",
    "    print(param)  \n",
    "  \n",
    "  print(\"\\nDropping the following parameters doesn't impact the Accuaracy: \")  \n",
    "  for param in equal:\n",
    "    print(param)\n",
    "\n",
    "  print(\"\\nDropping the following parameters the Accuaracy increases: \")  \n",
    "  for param in increase:\n",
    "    print(param)\n",
    "  \n",
    "  if (ndresult_gbc>max):\n",
    "      max=ndresult_gbc\n",
    "  if (result_gbc<min):\n",
    "      min=ndresult_gbc\n",
    "print('\\nThe MAX Accuracy:{:.4%}'.format(max))\n",
    "print('\\nThe min Accuracy:{:.4%}'.format(min))\n",
    "# By runing many iterations, we found it is better to drop the category of \"hospital stay\" to increase the accuracy"
   ]
  },
  {
   "cell_type": "code",
   "execution_count": 43,
   "metadata": {},
   "outputs": [
    {
     "name": "stdout",
     "output_type": "stream",
     "text": [
      "\n",
      "Iteration 1\n",
      "\n",
      "No Dropping, Accuracy:67.2414%\n",
      "Dropping Gender, Accuracy:67.8161%\n",
      "Dropping Age, Accuracy:63.2184%\n",
      "Dropping Hospital, Accuracy:63.7931%\n",
      "Dropping Residence pre-fracture, Accuracy:64.9425%\n",
      "Dropping Mobility pre-fracture, Accuracy:59.7701%\n",
      "Dropping Pfeiffer, Accuracy:66.6667%\n",
      "Dropping ASA, Accuracy:66.6667%\n",
      "Dropping Fracture side, Accuracy:66.0920%\n",
      "Dropping Fracture type, Accuracy:66.0920%\n",
      "Dropping Treatment1 pre-fracture, Accuracy:64.3678%\n",
      "Dropping Treatment4 pre-fracture, Accuracy:64.3678%\n",
      "Dropping Treatment5 pre-fracture, Accuracy:65.5172%\n",
      "Dropping Mortality after surgery, Accuracy:66.6667%\n",
      "Dropping Surgery type, Accuracy:66.6667%\n",
      "Dropping Surgery delay, Accuracy:64.9425%\n",
      "Dropping Anesthesia, Accuracy:64.9425%\n",
      "Dropping Anesthesia blocking, Accuracy:67.2414%\n",
      "Dropping Ulcers, Accuracy:67.2414%\n",
      "Dropping Specialist, Accuracy:67.2414%\n",
      "Dropping Sat first day, Accuracy:67.2414%\n",
      "Dropping Destination after hospital, Accuracy:66.0920%\n",
      "Dropping Hospital stay, Accuracy:66.0920%\n",
      "Dropping Treatment1 after hospital, Accuracy:66.6667%\n",
      "Dropping Treatment4 after hospital, Accuracy:66.0920%\n",
      "Dropping Treatment5 after hospital, Accuracy:66.6667%\n",
      "\n",
      "Dropping the following parameters the Accuaracy decreases: \n",
      "Age\n",
      "Hospital\n",
      "Residence pre-fracture\n",
      "Mobility pre-fracture\n",
      "Pfeiffer\n",
      "ASA\n",
      "Fracture side\n",
      "Fracture type\n",
      "Treatment1 pre-fracture\n",
      "Treatment4 pre-fracture\n",
      "Treatment5 pre-fracture\n",
      "Mortality after surgery\n",
      "Surgery type\n",
      "Surgery delay\n",
      "Anesthesia\n",
      "Destination after hospital\n",
      "Hospital stay\n",
      "Treatment1 after hospital\n",
      "Treatment4 after hospital\n",
      "Treatment5 after hospital\n",
      "\n",
      "Dropping the following parameters doesn't impact the Accuaracy: \n",
      "Anesthesia blocking\n",
      "Ulcers\n",
      "Specialist\n",
      "Sat first day\n",
      "\n",
      "Dropping the following parameters the Accuaracy increases: \n",
      "Gender\n",
      "\n",
      "The MAX Accuracy:67.2414%\n",
      "\n",
      "The min Accuracy:67.2414%\n"
     ]
    }
   ],
   "source": [
    "# By running this code, we can see the effect of each input category for the HistGradientBoostingClassifier algorithm\n",
    "max=0\n",
    "min=100\n",
    "for s in range(1):    # Define how many times of iteration\n",
    "  increase=[];\n",
    "  equal=[];\n",
    "  decrease=[];\n",
    "  print(\"\\nIteration {}\".format(s+1))\n",
    "  hgbc = HistGradientBoostingClassifier()\n",
    "  hgbc.fit(hospital_predict1, hospital_labels)\n",
    "  predict_hgbc=hgbc.predict(hospital_predict1_test)\n",
    "  ndresult_hgbc=accuracy_score(hospital_labels_test, predict_hgbc)\n",
    "  print('\\nNo Dropping, Accuracy:{:.4%}'.format(ndresult_hgbc))\n",
    "  hospital_data_aux = hospital_data\n",
    "  for i in hospital_data_aux.columns[:25]:\n",
    "    \n",
    "    hospital_predict1_aux = hospital_predict1\n",
    "    hospital_predict1_test_aux = hospital_predict1_test\n",
    "    hospital_predict1_aux = hospital_predict1_aux.drop(i, axis=1)\n",
    "    hospital_predict1_test_aux = hospital_predict1_test_aux.drop(i, axis=1)\n",
    "\n",
    "    hgbc = HistGradientBoostingClassifier()\n",
    "    hgbc.fit(hospital_predict1_aux, hospital_labels)\n",
    "    predict_hgbc=hgbc.predict(hospital_predict1_test_aux)\n",
    "    result_hgbc=accuracy_score(hospital_labels_test, predict_hgbc)\n",
    "    print('Dropping {}, Accuracy:{:.4%}'.format(i,result_hgbc))\n",
    "    if (result_hgbc<ndresult_hgbc):\n",
    "      decrease.append(i)\n",
    "\n",
    "    elif (result_hgbc==ndresult_hgbc):\n",
    "      equal.append(i)\n",
    "\n",
    "    else:\n",
    "      increase.append(i)\n",
    "    \n",
    "  print(\"\\nDropping the following parameters the Accuaracy decreases: \")  \n",
    "  for param in decrease:\n",
    "    print(param)  \n",
    "  \n",
    "  print(\"\\nDropping the following parameters doesn't impact the Accuaracy: \")  \n",
    "  for param in equal:\n",
    "    print(param)\n",
    "\n",
    "  print(\"\\nDropping the following parameters the Accuaracy increases: \")  \n",
    "  for param in increase:\n",
    "    print(param)\n",
    "  if (ndresult_hgbc>max):\n",
    "    max=ndresult_hgbc\n",
    "  if (ndresult_hgbc<min):\n",
    "    min=ndresult_hgbc\n",
    "print('\\nThe MAX Accuracy:{:.4%}'.format(max))\n",
    "print('\\nThe min Accuracy:{:.4%}'.format(min))\n",
    "# By running many iterations, we found that the accuracy will be improved by dropping the category of Gender."
   ]
  },
  {
   "cell_type": "code",
   "execution_count": 41,
   "metadata": {},
   "outputs": [
    {
     "name": "stdout",
     "output_type": "stream",
     "text": [
      "\n",
      "Iteration 1\n",
      "Accuracy:68.3908%\n",
      "\n",
      "Iteration 2\n",
      "Accuracy:67.2414%\n",
      "\n",
      "Iteration 3\n",
      "Accuracy:66.0920%\n",
      "\n",
      "Iteration 4\n",
      "Accuracy:67.2414%\n",
      "\n",
      "Iteration 5\n",
      "Accuracy:66.6667%\n",
      "\n",
      "Iteration 6\n",
      "Accuracy:67.2414%\n",
      "\n",
      "Iteration 7\n",
      "Accuracy:68.3908%\n",
      "\n",
      "Iteration 8\n",
      "Accuracy:67.8161%\n",
      "\n",
      "Iteration 9\n",
      "Accuracy:67.8161%\n",
      "\n",
      "Iteration 10\n",
      "Accuracy:69.5402%\n",
      "\n",
      "Iteration 11\n",
      "Accuracy:64.9425%\n",
      "\n",
      "Iteration 12\n",
      "Accuracy:68.3908%\n",
      "\n",
      "Iteration 13\n",
      "Accuracy:68.3908%\n",
      "\n",
      "Iteration 14\n",
      "Accuracy:70.1149%\n",
      "\n",
      "Iteration 15\n",
      "Accuracy:68.3908%\n",
      "\n",
      "Iteration 16\n",
      "Accuracy:69.5402%\n",
      "\n",
      "Iteration 17\n",
      "Accuracy:67.2414%\n",
      "\n",
      "Iteration 18\n",
      "Accuracy:65.5172%\n",
      "\n",
      "Iteration 19\n",
      "Accuracy:67.8161%\n",
      "\n",
      "Iteration 20\n",
      "Accuracy:68.9655%\n",
      "\n",
      "Iteration 21\n",
      "Accuracy:67.2414%\n",
      "\n",
      "Iteration 22\n",
      "Accuracy:67.8161%\n",
      "\n",
      "Iteration 23\n",
      "Accuracy:65.5172%\n",
      "\n",
      "Iteration 24\n",
      "Accuracy:67.2414%\n",
      "\n",
      "Iteration 25\n",
      "Accuracy:66.6667%\n",
      "\n",
      "Iteration 26\n",
      "Accuracy:67.8161%\n",
      "\n",
      "Iteration 27\n",
      "Accuracy:68.3908%\n",
      "\n",
      "Iteration 28\n",
      "Accuracy:67.8161%\n",
      "\n",
      "Iteration 29\n",
      "Accuracy:67.8161%\n",
      "\n",
      "Iteration 30\n",
      "Accuracy:68.3908%\n",
      "\n",
      "Iteration 31\n",
      "Accuracy:68.9655%\n",
      "\n",
      "Iteration 32\n",
      "Accuracy:67.8161%\n",
      "\n",
      "Iteration 33\n",
      "Accuracy:68.3908%\n",
      "\n",
      "Iteration 34\n",
      "Accuracy:68.9655%\n",
      "\n",
      "Iteration 35\n",
      "Accuracy:68.3908%\n",
      "\n",
      "Iteration 36\n",
      "Accuracy:68.3908%\n",
      "\n",
      "Iteration 37\n",
      "Accuracy:71.2644%\n",
      "\n",
      "Iteration 38\n",
      "Accuracy:65.5172%\n",
      "\n",
      "Iteration 39\n",
      "Accuracy:66.0920%\n",
      "\n",
      "Iteration 40\n",
      "Accuracy:67.8161%\n",
      "\n",
      "Iteration 41\n",
      "Accuracy:68.3908%\n",
      "\n",
      "Iteration 42\n",
      "Accuracy:68.3908%\n",
      "\n",
      "Iteration 43\n",
      "Accuracy:66.6667%\n",
      "\n",
      "Iteration 44\n",
      "Accuracy:66.6667%\n",
      "\n",
      "Iteration 45\n",
      "Accuracy:70.6897%\n",
      "\n",
      "Iteration 46\n",
      "Accuracy:68.3908%\n",
      "\n",
      "Iteration 47\n",
      "Accuracy:66.0920%\n",
      "\n",
      "Iteration 48\n",
      "Accuracy:68.9655%\n",
      "\n",
      "Iteration 49\n",
      "Accuracy:68.9655%\n",
      "\n",
      "Iteration 50\n",
      "Accuracy:68.9655%\n",
      "\n",
      "The MAX Accuracy:71.2644%\n",
      "The min Accuracy:64.9425%\n",
      "The mean Accuracy in 50 iterations:67.8851%\n"
     ]
    }
   ],
   "source": [
    "###   To see how dinamic is Randomforestclassifier algorithm in many iterations ###\n",
    "sum=0\n",
    "num=50\n",
    "max=0\n",
    "min=100\n",
    "for s in range(num):\n",
    "  print(\"\\nIteration {}\".format(s+1))\n",
    "  ran = RandomForestClassifier()\n",
    "  ran.fit(hospital_predict1, hospital_labels)\n",
    "  predict_ran=ran.predict(hospital_predict1_test)\n",
    "  result_ran=accuracy_score(hospital_labels_test, predict_ran)\n",
    "  print('Accuracy:{:.4%}'.format(result_ran))\n",
    "  sum+=result_ran\n",
    "  if(result_ran>max):\n",
    "    max=result_ran\n",
    "  if(result_ran<min):\n",
    "    min=result_ran\n",
    "print('\\nThe MAX Accuracy:{:.4%}'.format(max))\n",
    "print('The min Accuracy:{:.4%}'.format(min))\n",
    "print('The mean Accuracy in {} iterations:{:.4%}'.format(num,sum/num))"
   ]
  },
  {
   "cell_type": "code",
   "execution_count": null,
   "metadata": {},
   "outputs": [],
   "source": []
  }
 ],
 "metadata": {
  "kernelspec": {
   "display_name": "Python 3",
   "language": "python",
   "name": "python3"
  },
  "language_info": {
   "codemirror_mode": {
    "name": "ipython",
    "version": 3
   },
   "file_extension": ".py",
   "mimetype": "text/x-python",
   "name": "python",
   "nbconvert_exporter": "python",
   "pygments_lexer": "ipython3",
   "version": "3.8.3"
  }
 },
 "nbformat": 4,
 "nbformat_minor": 4
}
